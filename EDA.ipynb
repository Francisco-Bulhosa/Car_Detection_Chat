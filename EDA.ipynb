{
 "cells": [
  {
   "cell_type": "code",
   "execution_count": null,
   "metadata": {},
   "outputs": [],
   "source": [
    "import sqlite3 \n",
    "import pandas as pd\n",
    "import numpy as np\n",
    "import seaborn as sns\n",
    "from ydata_profiling import ProfileReport\n",
    "import matplotlib.pyplot as plt\n",
    "import missingno as msno\n",
    "\n",
    "from sklearn.ensemble import IsolationForest"
   ]
  },
  {
   "cell_type": "code",
   "execution_count": null,
   "metadata": {},
   "outputs": [],
   "source": [
    "\n",
    "# Connect to the database (or create it if it doesn't exist)\n",
    "conn = sqlite3.connect('car_listings.db')\n",
    "\n",
    "# Create a cursor object to execute SQL commands\n",
    "cursor = conn.cursor()\n",
    "\n",
    "# Step 1: Update the make column\n",
    "cursor.execute(\"\"\"\n",
    "    UPDATE car_listings\n",
    "    SET \n",
    "        make = CASE \n",
    "            WHEN make = 'Aston' THEN 'Aston Martin'\n",
    "            WHEN make = 'Alfa' THEN 'Alfa Romeo'\n",
    "            WHEN make = 'Land' THEN 'Land Rover'\n",
    "ELSE make\n",
    "        END,\n",
    "        model = CASE\n",
    "            WHEN make = 'Aston' AND model LIKE 'Martin %' THEN SUBSTR(model, INSTR(model, 'Martin ') + 7)\n",
    "            WHEN make = 'Alfa' AND model LIKE 'Romeo %' THEN SUBSTR(model, INSTR(model, 'Romeo ') + 6)\n",
    "            WHEN make = 'Land' AND model LIKE 'Rover %' THEN SUBSTR(model, INSTR(model, 'Rover ') + 6)\n",
    "            ELSE model\n",
    "        END\n",
    "\"\"\")\n",
    "\n",
    "# Commit the changes to the database\n",
    "conn.commit()\n",
    "\n",
    "# Close the connection\n",
    "conn.close()"
   ]
  },
  {
   "cell_type": "code",
   "execution_count": null,
   "metadata": {},
   "outputs": [],
   "source": [
    "import sqlite3\n",
    "import csv\n",
    "\n",
    "# Connect to the SQLite database\n",
    "conn = sqlite3.connect('car_listings.db')\n",
    "cursor = conn.cursor()\n",
    "\n",
    "# Execute a query to retrieve all data from the desired table\n",
    "cursor.execute(\"SELECT * FROM car_listings\")\n",
    "rows = cursor.fetchall()\n",
    "\n",
    "# Define the CSV file name\n",
    "csv_filename = 'car_listings.csv'\n",
    "\n",
    "# Write data to a CSV file\n",
    "with open(csv_filename, 'w', newline='') as csv_file:\n",
    "    csv_writer = csv.writer(csv_file)\n",
    "    # Write the header (column names)\n",
    "    csv_writer.writerow([description[0] for description in cursor.description])\n",
    "    # Write the data rows\n",
    "    csv_writer.writerows(rows)\n",
    "\n",
    "# Close the SQLite connection\n",
    "conn.close()\n"
   ]
  },
  {
   "cell_type": "code",
   "execution_count": null,
   "metadata": {},
   "outputs": [],
   "source": [
    "cars_db = pd.read_csv(\"car_listings.csv\")"
   ]
  },
  {
   "cell_type": "code",
   "execution_count": null,
   "metadata": {},
   "outputs": [],
   "source": [
    "# Checking the columns present in the data\n",
    "cars_db.columns"
   ]
  },
  {
   "cell_type": "code",
   "execution_count": null,
   "metadata": {},
   "outputs": [],
   "source": [
    "# Checking the first 5 rows of the dataset\n",
    "cars_db.head()"
   ]
  },
  {
   "cell_type": "code",
   "execution_count": null,
   "metadata": {},
   "outputs": [],
   "source": [
    "# Understand the shape of the data\n",
    "cars_db.shape"
   ]
  },
  {
   "cell_type": "code",
   "execution_count": null,
   "metadata": {},
   "outputs": [],
   "source": [
    "# Extracting basic info about the dataframe.\n",
    "cars_db.info()"
   ]
  },
  {
   "cell_type": "code",
   "execution_count": null,
   "metadata": {},
   "outputs": [],
   "source": [
    "# checking if the data has null values present.\n",
    "cars_db.isnull().sum()"
   ]
  },
  {
   "cell_type": "code",
   "execution_count": null,
   "metadata": {},
   "outputs": [],
   "source": [
    "# Checking the Dataframe for duplicate values in each column.\n",
    "list_columns = cars_db.columns\n",
    "\n",
    "for column in list_columns:\n",
    "    number_of_duplicates = cars_db[column].duplicated().sum()\n",
    "    print(f'Number of duplicates in column {column}: {number_of_duplicates}')"
   ]
  },
  {
   "cell_type": "code",
   "execution_count": null,
   "metadata": {},
   "outputs": [],
   "source": [
    "# Checking the count of unique values in each column\n",
    "cars_db.nunique()"
   ]
  },
  {
   "cell_type": "code",
   "execution_count": null,
   "metadata": {},
   "outputs": [],
   "source": [
    "# calling a describe method to get some insight on different aspects of the data.\n",
    "cars_db.describe(include='all').T"
   ]
  },
  {
   "cell_type": "code",
   "execution_count": null,
   "metadata": {},
   "outputs": [],
   "source": [
    "# getting some of the same info as the .descrive function for the categorical values.\n",
    "cars_db.describe(include=object).T"
   ]
  },
  {
   "cell_type": "code",
   "execution_count": null,
   "metadata": {},
   "outputs": [],
   "source": [
    "# Drop the 'timestamp' column\n",
    "cars_db_1 = cars_db.drop(columns='timestamp')"
   ]
  },
  {
   "cell_type": "code",
   "execution_count": null,
   "metadata": {},
   "outputs": [],
   "source": [
    "\n",
    "fig, axes = plt.subplots(3, 1, figsize=(15, 20))\n",
    "fig.suptitle('Visualization for key variables in the dataset')\n",
    "\n",
    "plot_titles = ['Count of Makes', 'Mileage Histogram', 'Listing Price Histogram']\n",
    "plot_features = ['make', 'mileage', 'listing_price']\n",
    "\n",
    "for i, ax in enumerate(axes.flatten()):\n",
    "    feature = plot_features[i]\n",
    "    if feature in ['make']:\n",
    "        sns.countplot(y=feature, data=cars_db_1, ax=ax)  # Changed to countplot for categorical data\n",
    "    else:\n",
    "        sns.histplot(x=feature, data=cars_db_1, kde=True, ax=ax)\n",
    "        ax.axvline(cars_db_1[feature].mean(), color=\"green\", linestyle=\"--\")\n",
    "        ax.axvline(cars_db_1[feature].median(), color=\"black\", linestyle=\"-\")\n",
    "    ax.set_title(plot_titles[i])\n",
    "\n",
    "plt.subplots_adjust(top=0.9)  # Adjusts the space to prevent title overlapping\n",
    "plt.tight_layout()\n",
    "plt.show()\n"
   ]
  },
  {
   "cell_type": "code",
   "execution_count": null,
   "metadata": {},
   "outputs": [],
   "source": [
    "# Plotting some boxplots to identify possible outliers.\n",
    "\n",
    "result = cars_db_1.select_dtypes(include = 'number')\n",
    "\n",
    "cont_cols = list(result)\n",
    "\n",
    "for col in cont_cols:\n",
    "\n",
    "    print(col)\n",
    "    \n",
    "    print('Skew :',round(cars_db_1[col].skew(),2))\n",
    "    \n",
    "    plt.figure(figsize = (15, 4))\n",
    "    \n",
    "    plt.subplot(1, 2, 1)\n",
    "    \n",
    "    cars_db_1[col].hist(bins = 10, grid = False)\n",
    "    \n",
    "    plt.ylabel('count')\n",
    "    \n",
    "    plt.subplot(1, 2, 2)\n",
    "    \n",
    "    sns.boxplot(x = cars_db_1[col])\n",
    "    \n",
    "    plt.show()"
   ]
  },
  {
   "cell_type": "code",
   "execution_count": null,
   "metadata": {},
   "outputs": [],
   "source": [
    "# finding the 'kilometers_driven' outlier index value\n",
    "cars_db_1.sort_values('listing_price', ascending=False, na_position='last') "
   ]
  },
  {
   "cell_type": "code",
   "execution_count": null,
   "metadata": {},
   "outputs": [],
   "source": [
    "# Dropping the extreme outlies\n",
    "cars_db_2 = cars_db_1.drop(labels=[0,287,535,536], axis=0)"
   ]
  },
  {
   "cell_type": "code",
   "execution_count": null,
   "metadata": {},
   "outputs": [],
   "source": [
    "# finding the 'kilometers_driven' outlier index value\n",
    "cars_db_2.sort_values('listing_price', ascending=False, na_position='last') "
   ]
  },
  {
   "cell_type": "code",
   "execution_count": null,
   "metadata": {},
   "outputs": [],
   "source": [
    "# Replotting the histograms for 'lisitng_price' after dropping the outliers\n",
    "\n",
    "fig, axes = plt.subplots(2, 1, figsize=(12, 14))\n",
    "\n",
    "# Histogram\n",
    "sns.histplot(x='listing_price', data=cars_db_2, kde=True, ax=axes[0])\n",
    "print('Skew :',round(cars_db_2[col].skew(),2))\n",
    "axes[0].axvline(cars_db_2['listing_price'].mean(), color=\"green\", linestyle=\"--\")\n",
    "axes[0].axvline(cars_db_2['listing_price'].median(), color=\"black\", linestyle=\"-\")\n",
    "axes[0].set_xlabel('listing_price')\n",
    "axes[0].set_ylabel('Frequency')\n",
    "\n",
    "# Boxplot\n",
    "sns.boxplot(x='listing_price', data=cars_db_2, ax=axes[1])\n",
    "axes[1].set_xlabel('listing_price')\n",
    "axes[1].set_ylabel('')\n",
    "\n",
    "plt.show()"
   ]
  },
  {
   "cell_type": "code",
   "execution_count": null,
   "metadata": {},
   "outputs": [],
   "source": [
    "# Reseting index in order to update the dropped rows.\n",
    "cars_db_2 = cars_db_2.reset_index(drop = True)"
   ]
  },
  {
   "cell_type": "code",
   "execution_count": null,
   "metadata": {},
   "outputs": [],
   "source": [
    "cars_db_2['make'].unique()"
   ]
  },
  {
   "cell_type": "code",
   "execution_count": null,
   "metadata": {},
   "outputs": [],
   "source": [
    "# List of makes to filter\n",
    "selected_makes = [\"Toyota\", \"BMW\", \"Jeep\", \"Volvo\", \"Ford\", \"Mazda\", \"Chevrolet\", \"RAM\", \"Land Rover\", \"Lexus\"]\n",
    "\n",
    "# Filter the DataFrame\n",
    "filtered_cars_db_2 = cars_db_2[cars_db_2['make'].isin(selected_makes)]\n",
    "print(filtered_cars_db_2.head(60))"
   ]
  },
  {
   "cell_type": "code",
   "execution_count": null,
   "metadata": {},
   "outputs": [],
   "source": [
    "# Find the indices of the rows you want to drop\n",
    "indices_to_drop = cars_db_2.index[cars_db_2['id'].isin([11, 16, 23, 36, 61, 62, 63, 64, 365, 503, 598, 613, 644, 1057, 1271, 1345, 1603, 1772])]\n",
    "\n",
    "# Drop these indices from the DataFrame\n",
    "cars_db_3 = cars_db_2.drop(indices_to_drop)"
   ]
  },
  {
   "cell_type": "code",
   "execution_count": null,
   "metadata": {},
   "outputs": [],
   "source": [
    "# List of makes to filter\n",
    "selected_makes = [\"Toyota\", \"BMW\", \"Jeep\", \"Volvo\", \"Ford\", \"Mazda\", \"Chevrolet\", \"RAM\", \"Land Rover\", \"Dodge\"]\n",
    "\n",
    "# Filter the DataFrame\n",
    "filtered_cars_db_3 = cars_db_3[cars_db_3['make'].isin(selected_makes)]\n",
    "print(filtered_cars_db_3.head(50))"
   ]
  },
  {
   "cell_type": "code",
   "execution_count": null,
   "metadata": {},
   "outputs": [],
   "source": [
    "# Reseting index in order to update the dropped rows.\n",
    "cars_db_3 = cars_db_3.reset_index(drop = True)\n",
    "\n",
    "cars_db_3['make'].unique()"
   ]
  },
  {
   "cell_type": "code",
   "execution_count": null,
   "metadata": {},
   "outputs": [],
   "source": [
    "cars_db_3"
   ]
  },
  {
   "cell_type": "code",
   "execution_count": null,
   "metadata": {},
   "outputs": [],
   "source": [
    "plt.figure(figsize=(12, 6))\n",
    "\n",
    "# Scatter plot - cars_df_1\n",
    "sns.scatterplot(x='mileage', y='listing_price', data=cars_db_3)\n",
    "plt.title('Scatter Plot')\n",
    "plt.xlabel('mileage')\n",
    "plt.ylabel('listing_price')"
   ]
  },
  {
   "cell_type": "code",
   "execution_count": null,
   "metadata": {},
   "outputs": [],
   "source": [
    "# finding the 'Mileage' outlier index value\n",
    "cars_db_3.sort_values('mileage', ascending=False, na_position='last') "
   ]
  },
  {
   "cell_type": "code",
   "execution_count": null,
   "metadata": {},
   "outputs": [],
   "source": [
    "# Set the figure size\n",
    "plt.figure(figsize = (15, 8))\n",
    "\n",
    "# Create the boxplots\n",
    "sns.boxplot(x = cars_db_3['make'], y = cars_db_3['listing_price'])\n",
    "# Rotate the labels on the x-axis to 45 degrees\n",
    "plt.xticks(rotation=45)\n",
    "\n",
    "plt.show()"
   ]
  },
  {
   "cell_type": "code",
   "execution_count": null,
   "metadata": {},
   "outputs": [],
   "source": [
    "# List of makes to filter\n",
    "selected_makes = [\"Toyota\", \"BMW\", \"Jeep\", \"Volvo\", \"Mazda\", \"Chevrolet\", \"RAM\", \"Land Rover\", \"Dodge\", \"Hummer\"]\n",
    "\n",
    "# Filter the DataFrame\n",
    "filtered_cars_db_4 = cars_db_3[cars_db_3['make'].isin(selected_makes)]\n",
    "print(filtered_cars_db_4.head(50))"
   ]
  },
  {
   "cell_type": "code",
   "execution_count": null,
   "metadata": {},
   "outputs": [],
   "source": [
    "# Saving a new cured CSV\n",
    "cars_db_3.to_csv('car_listings_cured.csv', index=False)"
   ]
  },
  {
   "cell_type": "code",
   "execution_count": null,
   "metadata": {},
   "outputs": [],
   "source": [
    "# Plottinh a distribution of \"Car_Class\" in Engine vs Power\n",
    "plt.figure(figsize=(15,12))\n",
    "sns.scatterplot(data=cars_db_3,y='listing_price',x='mileage',hue='make')\n",
    "plt.show()"
   ]
  },
  {
   "cell_type": "code",
   "execution_count": null,
   "metadata": {},
   "outputs": [],
   "source": [
    "cars_db_3['make'].unique()"
   ]
  },
  {
   "cell_type": "code",
   "execution_count": null,
   "metadata": {},
   "outputs": [],
   "source": [
    "import os\n",
    "import shutil"
   ]
  },
  {
   "cell_type": "code",
   "execution_count": null,
   "metadata": {},
   "outputs": [],
   "source": [
    "\n",
    "# Organize by make - Create Folders\n",
    "def sort_images_by_brand(data_dir, brands):\n",
    "    \"\"\"\n",
    "    Organizes images in `data_dir` by moving them into subdirectories based on the brand names present in their filenames.\n",
    "\n",
    "    Args:\n",
    "    - data_dir (str): The main directory containing all the images.\n",
    "    - brands (list of str): List of car brand names.\n",
    "    \"\"\"\n",
    "    for file_name in os.listdir(data_dir):\n",
    "        file_path = os.path.join(data_dir, file_name)\n",
    "        \n",
    "        # Only process files (avoid directories)\n",
    "        if os.path.isfile(file_path):\n",
    "            for brand in brands:\n",
    "                if brand.replace(' ', '_') in file_name:\n",
    "                    brand_dir = os.path.join(data_dir, brand.replace(' ', '_'))\n",
    "                    \n",
    "                    # Create brand directory if it doesn't exist\n",
    "                    if not os.path.exists(brand_dir):\n",
    "                        os.makedirs(brand_dir)\n",
    "                    \n",
    "                    dest_path = os.path.join(brand_dir, file_name)\n",
    "                    shutil.move(file_path, dest_path)\n",
    "                    break  # Exit the inner loop once we've found a matching brand and moved the file\n",
    "\n",
    "# Usage:\n",
    "\n",
    "data_dir = 'C:\\\\Users\\\\franc\\\\Documents\\\\GitHub\\\\Car_Detection_Chat\\\\images'\n",
    "brands = ['Ferrari', 'Bugatti', 'Koenigsegg', 'Lamborghini', 'Maserati',\n",
    "          'McLaren', 'Porsche', 'Maybach', 'Mercedes-Benz', 'Ford', 'Lexus',\n",
    "          'Aston Martin', 'Rolls-Royce', 'Chevrolet', 'Dodge', 'Cadillac',\n",
    "          'DeTomaso', 'Bentley', 'Alfa Romeo', 'Jaguar', 'Jeep', 'BMW',\n",
    "          'Spyker', 'Audi', 'Land Rover', 'Acura', 'Hummer']\n",
    "\n",
    "sort_images_by_brand(data_dir, brands)\n",
    "\n"
   ]
  },
  {
   "cell_type": "code",
   "execution_count": null,
   "metadata": {},
   "outputs": [],
   "source": []
  }
 ],
 "metadata": {
  "kernelspec": {
   "display_name": "law_chat",
   "language": "python",
   "name": "python3"
  },
  "language_info": {
   "codemirror_mode": {
    "name": "ipython",
    "version": 3
   },
   "file_extension": ".py",
   "mimetype": "text/x-python",
   "name": "python",
   "nbconvert_exporter": "python",
   "pygments_lexer": "ipython3",
   "version": "3.10.12"
  },
  "orig_nbformat": 4
 },
 "nbformat": 4,
 "nbformat_minor": 2
}
