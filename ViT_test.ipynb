{
 "cells": [
  {
   "cell_type": "code",
   "execution_count": 2,
   "metadata": {},
   "outputs": [
    {
     "name": "stderr",
     "output_type": "stream",
     "text": [
      "c:\\Users\\franc\\Documents\\Data_Science\\Anaconda_Navigator\\envs\\law_chat\\lib\\site-packages\\tqdm\\auto.py:21: TqdmWarning: IProgress not found. Please update jupyter and ipywidgets. See https://ipywidgets.readthedocs.io/en/stable/user_install.html\n",
      "  from .autonotebook import tqdm as notebook_tqdm\n"
     ]
    }
   ],
   "source": [
    "import tensorflow as tf\n",
    "import matplotlib.pyplot as plt\n",
    "import numpy as np\n",
    "import os\n",
    "\n",
    "from transformers import AutoFeatureExtractor, AutoModelForImageClassification\n",
    "from datasets import load_dataset\n",
    "\n"
   ]
  },
  {
   "cell_type": "code",
   "execution_count": 4,
   "metadata": {},
   "outputs": [
    {
     "name": "stdout",
     "output_type": "stream",
     "text": [
      "Found 0 files belonging to 0 classes.\n",
      "Using 0 files for training.\n"
     ]
    },
    {
     "ename": "ValueError",
     "evalue": "No images found in directory C:\\Users\\franc\\Documents\\GitHub\\Car_Detection_Chat\\testando. Allowed formats: ('.bmp', '.gif', '.jpeg', '.jpg', '.png')",
     "output_type": "error",
     "traceback": [
      "\u001b[1;31m---------------------------------------------------------------------------\u001b[0m",
      "\u001b[1;31mValueError\u001b[0m                                Traceback (most recent call last)",
      "\u001b[1;32mc:\\Users\\franc\\Documents\\GitHub\\Car_Detection_Chat\\ViT_test.ipynb Cell 2\u001b[0m line \u001b[0;36m4\n\u001b[0;32m      <a href='vscode-notebook-cell:/c%3A/Users/franc/Documents/GitHub/Car_Detection_Chat/ViT_test.ipynb#W1sZmlsZQ%3D%3D?line=0'>1</a>\u001b[0m \u001b[39m# Load your data\u001b[39;00m\n\u001b[0;32m      <a href='vscode-notebook-cell:/c%3A/Users/franc/Documents/GitHub/Car_Detection_Chat/ViT_test.ipynb#W1sZmlsZQ%3D%3D?line=1'>2</a>\u001b[0m data_dir \u001b[39m=\u001b[39m \u001b[39m'\u001b[39m\u001b[39mC:\u001b[39m\u001b[39m\\\\\u001b[39;00m\u001b[39mUsers\u001b[39m\u001b[39m\\\\\u001b[39;00m\u001b[39mfranc\u001b[39m\u001b[39m\\\\\u001b[39;00m\u001b[39mDocuments\u001b[39m\u001b[39m\\\\\u001b[39;00m\u001b[39mGitHub\u001b[39m\u001b[39m\\\\\u001b[39;00m\u001b[39mCar_Detection_Chat\u001b[39m\u001b[39m\\\\\u001b[39;00m\u001b[39mtestando\u001b[39m\u001b[39m'\u001b[39m\n\u001b[1;32m----> <a href='vscode-notebook-cell:/c%3A/Users/franc/Documents/GitHub/Car_Detection_Chat/ViT_test.ipynb#W1sZmlsZQ%3D%3D?line=3'>4</a>\u001b[0m train_ds \u001b[39m=\u001b[39m tf\u001b[39m.\u001b[39;49mkeras\u001b[39m.\u001b[39;49mutils\u001b[39m.\u001b[39;49mimage_dataset_from_directory(\n\u001b[0;32m      <a href='vscode-notebook-cell:/c%3A/Users/franc/Documents/GitHub/Car_Detection_Chat/ViT_test.ipynb#W1sZmlsZQ%3D%3D?line=4'>5</a>\u001b[0m     data_dir,\n\u001b[0;32m      <a href='vscode-notebook-cell:/c%3A/Users/franc/Documents/GitHub/Car_Detection_Chat/ViT_test.ipynb#W1sZmlsZQ%3D%3D?line=5'>6</a>\u001b[0m     validation_split\u001b[39m=\u001b[39;49m\u001b[39m0.2\u001b[39;49m,\n\u001b[0;32m      <a href='vscode-notebook-cell:/c%3A/Users/franc/Documents/GitHub/Car_Detection_Chat/ViT_test.ipynb#W1sZmlsZQ%3D%3D?line=6'>7</a>\u001b[0m     subset\u001b[39m=\u001b[39;49m\u001b[39m\"\u001b[39;49m\u001b[39mtraining\u001b[39;49m\u001b[39m\"\u001b[39;49m,\n\u001b[0;32m      <a href='vscode-notebook-cell:/c%3A/Users/franc/Documents/GitHub/Car_Detection_Chat/ViT_test.ipynb#W1sZmlsZQ%3D%3D?line=7'>8</a>\u001b[0m     seed\u001b[39m=\u001b[39;49m\u001b[39m123\u001b[39;49m,\n\u001b[0;32m      <a href='vscode-notebook-cell:/c%3A/Users/franc/Documents/GitHub/Car_Detection_Chat/ViT_test.ipynb#W1sZmlsZQ%3D%3D?line=8'>9</a>\u001b[0m     image_size\u001b[39m=\u001b[39;49m(\u001b[39m224\u001b[39;49m, \u001b[39m224\u001b[39;49m),\n\u001b[0;32m     <a href='vscode-notebook-cell:/c%3A/Users/franc/Documents/GitHub/Car_Detection_Chat/ViT_test.ipynb#W1sZmlsZQ%3D%3D?line=9'>10</a>\u001b[0m     batch_size\u001b[39m=\u001b[39;49m\u001b[39m32\u001b[39;49m\n\u001b[0;32m     <a href='vscode-notebook-cell:/c%3A/Users/franc/Documents/GitHub/Car_Detection_Chat/ViT_test.ipynb#W1sZmlsZQ%3D%3D?line=10'>11</a>\u001b[0m )\n\u001b[0;32m     <a href='vscode-notebook-cell:/c%3A/Users/franc/Documents/GitHub/Car_Detection_Chat/ViT_test.ipynb#W1sZmlsZQ%3D%3D?line=12'>13</a>\u001b[0m val_ds \u001b[39m=\u001b[39m tf\u001b[39m.\u001b[39mkeras\u001b[39m.\u001b[39mutils\u001b[39m.\u001b[39mimage_dataset_from_directory(\n\u001b[0;32m     <a href='vscode-notebook-cell:/c%3A/Users/franc/Documents/GitHub/Car_Detection_Chat/ViT_test.ipynb#W1sZmlsZQ%3D%3D?line=13'>14</a>\u001b[0m     data_dir,\n\u001b[0;32m     <a href='vscode-notebook-cell:/c%3A/Users/franc/Documents/GitHub/Car_Detection_Chat/ViT_test.ipynb#W1sZmlsZQ%3D%3D?line=14'>15</a>\u001b[0m     validation_split\u001b[39m=\u001b[39m\u001b[39m0.2\u001b[39m,\n\u001b[1;32m   (...)\u001b[0m\n\u001b[0;32m     <a href='vscode-notebook-cell:/c%3A/Users/franc/Documents/GitHub/Car_Detection_Chat/ViT_test.ipynb#W1sZmlsZQ%3D%3D?line=18'>19</a>\u001b[0m     batch_size\u001b[39m=\u001b[39m\u001b[39m32\u001b[39m\n\u001b[0;32m     <a href='vscode-notebook-cell:/c%3A/Users/franc/Documents/GitHub/Car_Detection_Chat/ViT_test.ipynb#W1sZmlsZQ%3D%3D?line=19'>20</a>\u001b[0m )\n",
      "File \u001b[1;32mc:\\Users\\franc\\Documents\\Data_Science\\Anaconda_Navigator\\envs\\law_chat\\lib\\site-packages\\keras\\src\\utils\\image_dataset.py:303\u001b[0m, in \u001b[0;36mimage_dataset_from_directory\u001b[1;34m(directory, labels, label_mode, class_names, color_mode, batch_size, image_size, shuffle, seed, validation_split, subset, interpolation, follow_links, crop_to_aspect_ratio, **kwargs)\u001b[0m\n\u001b[0;32m    299\u001b[0m image_paths, labels \u001b[39m=\u001b[39m dataset_utils\u001b[39m.\u001b[39mget_training_or_validation_split(\n\u001b[0;32m    300\u001b[0m     image_paths, labels, validation_split, subset\n\u001b[0;32m    301\u001b[0m )\n\u001b[0;32m    302\u001b[0m \u001b[39mif\u001b[39;00m \u001b[39mnot\u001b[39;00m image_paths:\n\u001b[1;32m--> 303\u001b[0m     \u001b[39mraise\u001b[39;00m \u001b[39mValueError\u001b[39;00m(\n\u001b[0;32m    304\u001b[0m         \u001b[39mf\u001b[39m\u001b[39m\"\u001b[39m\u001b[39mNo images found in directory \u001b[39m\u001b[39m{\u001b[39;00mdirectory\u001b[39m}\u001b[39;00m\u001b[39m. \u001b[39m\u001b[39m\"\u001b[39m\n\u001b[0;32m    305\u001b[0m         \u001b[39mf\u001b[39m\u001b[39m\"\u001b[39m\u001b[39mAllowed formats: \u001b[39m\u001b[39m{\u001b[39;00mALLOWLIST_FORMATS\u001b[39m}\u001b[39;00m\u001b[39m\"\u001b[39m\n\u001b[0;32m    306\u001b[0m     )\n\u001b[0;32m    308\u001b[0m dataset \u001b[39m=\u001b[39m paths_and_labels_to_dataset(\n\u001b[0;32m    309\u001b[0m     image_paths\u001b[39m=\u001b[39mimage_paths,\n\u001b[0;32m    310\u001b[0m     image_size\u001b[39m=\u001b[39mimage_size,\n\u001b[1;32m   (...)\u001b[0m\n\u001b[0;32m    316\u001b[0m     crop_to_aspect_ratio\u001b[39m=\u001b[39mcrop_to_aspect_ratio,\n\u001b[0;32m    317\u001b[0m )\n\u001b[0;32m    319\u001b[0m \u001b[39mif\u001b[39;00m batch_size \u001b[39mis\u001b[39;00m \u001b[39mnot\u001b[39;00m \u001b[39mNone\u001b[39;00m:\n",
      "\u001b[1;31mValueError\u001b[0m: No images found in directory C:\\Users\\franc\\Documents\\GitHub\\Car_Detection_Chat\\testando. Allowed formats: ('.bmp', '.gif', '.jpeg', '.jpg', '.png')"
     ]
    }
   ],
   "source": [
    "# Load your data\n",
    "data_dir = 'C:\\\\Users\\\\franc\\\\Documents\\\\GitHub\\\\Car_Detection_Chat\\\\testando'\n",
    "\n",
    "train_ds = tf.keras.utils.image_dataset_from_directory(\n",
    "    data_dir,\n",
    "    validation_split=0.2,\n",
    "    subset=\"training\",\n",
    "    seed=123,\n",
    "    image_size=(224, 224),\n",
    "    batch_size=32\n",
    ")\n",
    "\n",
    "val_ds = tf.keras.utils.image_dataset_from_directory(\n",
    "    data_dir,\n",
    "    validation_split=0.2,\n",
    "    subset=\"validation\",\n",
    "    seed=123,\n",
    "    image_size=(224, 224),\n",
    "    batch_size=32\n",
    ")\n"
   ]
  },
  {
   "cell_type": "code",
   "execution_count": 24,
   "metadata": {},
   "outputs": [],
   "source": [
    "# CHECK ENCODING\n",
    "def check_utf8_encoding(data_dir):\n",
    "    for root, dirs, files in os.walk(data_dir):\n",
    "        # Check directory names\n",
    "        for dir_name in dirs:\n",
    "            try:\n",
    "                dir_name.encode('utf-8').decode('utf-8')\n",
    "            except UnicodeDecodeError:\n",
    "                print(f\"Non-UTF-8 directory name detected: {os.path.join(root, dir_name)}\")\n",
    "        \n",
    "        # Check file names\n",
    "        for file_name in files:\n",
    "            try:\n",
    "                file_name.encode('utf-8').decode('utf-8')\n",
    "            except UnicodeDecodeError:\n",
    "                print(f\"Non-UTF-8 file name detected: {os.path.join(root, file_name)}\")\n",
    "\n",
    "data_dir = 'C:\\\\Users\\\\franc\\\\Documents\\\\GitHub\\\\Car_Detection_Chat\\\\images'\n",
    "check_utf8_encoding(data_dir)"
   ]
  },
  {
   "cell_type": "code",
   "execution_count": null,
   "metadata": {},
   "outputs": [],
   "source": [
    "Cars = list(data_dir.glob('roses/*'))\n",
    "PIL.Image.open(str(roses[0]))\n"
   ]
  },
  {
   "cell_type": "code",
   "execution_count": 22,
   "metadata": {},
   "outputs": [],
   "source": [
    "import os\n",
    "from PIL import Image\n",
    "\n",
    "for root, dirs, files in os.walk(data_dir):\n",
    "    for file in files:\n",
    "        if file.lower().endswith(('.png', '.jpg', '.jpeg')):\n",
    "            file_path = os.path.join(root, file)\n",
    "            try:\n",
    "                with Image.open(file_path) as img:\n",
    "                    img.verify()\n",
    "            except Exception as e:\n",
    "                print(f\"Problem with file: {file_path}. Error: {e}\")\n"
   ]
  },
  {
   "cell_type": "code",
   "execution_count": null,
   "metadata": {},
   "outputs": [],
   "source": []
  }
 ],
 "metadata": {
  "kernelspec": {
   "display_name": "law_chat",
   "language": "python",
   "name": "python3"
  },
  "language_info": {
   "codemirror_mode": {
    "name": "ipython",
    "version": 3
   },
   "file_extension": ".py",
   "mimetype": "text/x-python",
   "name": "python",
   "nbconvert_exporter": "python",
   "pygments_lexer": "ipython3",
   "version": "3.10.12"
  },
  "orig_nbformat": 4
 },
 "nbformat": 4,
 "nbformat_minor": 2
}
