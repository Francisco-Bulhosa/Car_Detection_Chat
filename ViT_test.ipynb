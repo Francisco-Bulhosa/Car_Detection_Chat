{
 "cells": [
  {
   "cell_type": "code",
   "execution_count": 12,
   "metadata": {},
   "outputs": [],
   "source": [
    "import tensorflow as tf\n",
    "import matplotlib.pyplot as plt\n",
    "import numpy as np\n",
    "import os\n",
    "from PIL import Image\n",
    "from pathlib import Path\n",
    "from transformers import AutoFeatureExtractor, AutoModelForImageClassification\n",
    "from datasets import load_dataset\n",
    "\n"
   ]
  },
  {
   "cell_type": "code",
   "execution_count": 7,
   "metadata": {},
   "outputs": [
    {
     "name": "stdout",
     "output_type": "stream",
     "text": [
      "Found 15668 files belonging to 26 classes.\n",
      "Using 12535 files for training.\n",
      "Found 15668 files belonging to 26 classes.\n",
      "Using 3133 files for validation.\n"
     ]
    }
   ],
   "source": [
    "# Load your data\n",
    "data_dir = 'C:\\\\Users\\\\franc\\\\Documents\\\\GitHub\\\\Car_Detection_Chat\\\\images'\n",
    "\n",
    "train_ds = tf.keras.utils.image_dataset_from_directory(\n",
    "    data_dir,\n",
    "    validation_split=0.2,\n",
    "    subset=\"training\",\n",
    "    seed=123,\n",
    "    image_size=(224, 224),\n",
    "    batch_size=32\n",
    ")\n",
    "\n",
    "val_ds = tf.keras.utils.image_dataset_from_directory(\n",
    "    data_dir,\n",
    "    validation_split=0.2,\n",
    "    subset=\"validation\",\n",
    "    seed=123,\n",
    "    image_size=(224, 224),\n",
    "    batch_size=32\n",
    ")\n"
   ]
  },
  {
   "cell_type": "code",
   "execution_count": null,
   "metadata": {},
   "outputs": [],
   "source": []
  },
  {
   "cell_type": "code",
   "execution_count": 21,
   "metadata": {},
   "outputs": [
    {
     "ename": "NameError",
     "evalue": "name 'Ferrari_812' is not defined",
     "output_type": "error",
     "traceback": [
      "\u001b[1;31m---------------------------------------------------------------------------\u001b[0m",
      "\u001b[1;31mNameError\u001b[0m                                 Traceback (most recent call last)",
      "\u001b[1;32mc:\\Users\\franc\\Documents\\GitHub\\Car_Detection_Chat\\ViT_test.ipynb Cell 3\u001b[0m line \u001b[0;36m5\n\u001b[0;32m      <a href='vscode-notebook-cell:/c%3A/Users/franc/Documents/GitHub/Car_Detection_Chat/ViT_test.ipynb#W2sZmlsZQ%3D%3D?line=0'>1</a>\u001b[0m data_dir_object \u001b[39m=\u001b[39m Path(\u001b[39m'\u001b[39m\u001b[39mC:\u001b[39m\u001b[39m\\\\\u001b[39;00m\u001b[39mUsers\u001b[39m\u001b[39m\\\\\u001b[39;00m\u001b[39mfranc\u001b[39m\u001b[39m\\\\\u001b[39;00m\u001b[39mDocuments\u001b[39m\u001b[39m\\\\\u001b[39;00m\u001b[39mGitHub\u001b[39m\u001b[39m\\\\\u001b[39;00m\u001b[39mCar_Detection_Chat\u001b[39m\u001b[39m\\\\\u001b[39;00m\u001b[39mimages\u001b[39m\u001b[39m'\u001b[39m)  \n\u001b[0;32m      <a href='vscode-notebook-cell:/c%3A/Users/franc/Documents/GitHub/Car_Detection_Chat/ViT_test.ipynb#W2sZmlsZQ%3D%3D?line=3'>4</a>\u001b[0m Cars \u001b[39m=\u001b[39m \u001b[39mlist\u001b[39m(data_dir_object\u001b[39m.\u001b[39mglob(\u001b[39m'\u001b[39m\u001b[39mimages/Ferrari/*\u001b[39m\u001b[39m'\u001b[39m))\n\u001b[1;32m----> <a href='vscode-notebook-cell:/c%3A/Users/franc/Documents/GitHub/Car_Detection_Chat/ViT_test.ipynb#W2sZmlsZQ%3D%3D?line=4'>5</a>\u001b[0m Image\u001b[39m.\u001b[39mopen(\u001b[39mstr\u001b[39m(Ferrari_812[\u001b[39m0\u001b[39m]))\n",
      "\u001b[1;31mNameError\u001b[0m: name 'Ferrari_812' is not defined"
     ]
    }
   ],
   "source": [
    "data_dir_object = Path('C:\\\\Users\\\\franc\\\\Documents\\\\GitHub\\\\Car_Detection_Chat\\\\images')  \n",
    "\n",
    "\n",
    "Cars = list(data_dir_object.glob('images/Ferrari/*'))\n",
    "Image.open(str(Ferrari_812[0]))\n"
   ]
  },
  {
   "cell_type": "code",
   "execution_count": 7,
   "metadata": {},
   "outputs": [],
   "source": [
    "import os\n",
    "from PIL import Image\n",
    "\n",
    "for root, dirs, files in os.walk(data_dir):\n",
    "    for file in files:\n",
    "        if file.lower().endswith(('.png', '.jpg', '.jpeg')):\n",
    "            file_path = os.path.join(root, file)\n",
    "            try:\n",
    "                with Image.open(file_path) as img:\n",
    "                    img.verify()\n",
    "            except Exception as e:\n",
    "                print(f\"Problem with file: {file_path}. Error: {e}\")\n"
   ]
  },
  {
   "cell_type": "code",
   "execution_count": 10,
   "metadata": {},
   "outputs": [],
   "source": [
    "# CHECK ENCODING\n",
    "def check_utf8_encoding(data_dir):\n",
    "    for root, dirs, files in os.walk(data_dir):\n",
    "        # # Check directory names\n",
    "        # for dir_name in dirs:\n",
    "        #     try:\n",
    "        #         dir_name.decode('utf-8')\n",
    "        #     except UnicodeDecodeError:\n",
    "        #         print(f\"Non-UTF-8 directory name detected: {os.path.join(root, dir_name)}\")\n",
    "        \n",
    "        # Check file names\n",
    "        for file_name in files:\n",
    "            try:\n",
    "                file_name.encode('utf-8').decode('utf-8')\n",
    "            except UnicodeDecodeError:\n",
    "                print(f\"Non-UTF-8 file name detected: {os.path.join(root, file_name)}\")\n",
    "\n",
    "data_dir = 'C:\\\\Users\\\\franc\\\\Documents\\\\GitHub\\\\Car_Detection_Chat\\\\images_backup'\n",
    "check_utf8_encoding(data_dir)"
   ]
  },
  {
   "cell_type": "code",
   "execution_count": null,
   "metadata": {},
   "outputs": [],
   "source": []
  }
 ],
 "metadata": {
  "kernelspec": {
   "display_name": "law_chat",
   "language": "python",
   "name": "python3"
  },
  "language_info": {
   "codemirror_mode": {
    "name": "ipython",
    "version": 3
   },
   "file_extension": ".py",
   "mimetype": "text/x-python",
   "name": "python",
   "nbconvert_exporter": "python",
   "pygments_lexer": "ipython3",
   "version": "3.10.12"
  },
  "orig_nbformat": 4
 },
 "nbformat": 4,
 "nbformat_minor": 2
}
